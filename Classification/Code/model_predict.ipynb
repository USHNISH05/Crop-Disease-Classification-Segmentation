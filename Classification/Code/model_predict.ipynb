{
 "cells": [
  {
   "cell_type": "code",
   "execution_count": 1,
   "metadata": {},
   "outputs": [],
   "source": [
    "import matplotlib.pyplot as plt\n",
    "import numpy as np\n",
    "import tensorflow as tf\n",
    "import os\n",
    "from tensorflow.keras import layers\n",
    "import matplotlib.pyplot as plt\n",
    "from sklearn.metrics import classification_report, confusion_matrix\n",
    "import seaborn as sns\n",
    "from tensorflow.keras import layers\n",
    "from tensorflow.keras.utils import custom_object_scope"
   ]
  },
  {
   "cell_type": "code",
   "execution_count": 2,
   "metadata": {},
   "outputs": [],
   "source": [
    "@tf.keras.utils.register_keras_serializable()\n",
    "class ClassToken(layers.Layer):\n",
    "    def __init__(self):\n",
    "        super(ClassToken, self).__init__()\n",
    "\n",
    "    def build(self, input_shape):\n",
    "        w_init = tf.keras.initializers.RandomNormal()\n",
    "        self.w = self.add_weight(\n",
    "            shape=(1, 1, input_shape[-1]),\n",
    "            initializer=w_init,\n",
    "            trainable=True,\n",
    "        )\n",
    "\n",
    "    def call(self, inputs):\n",
    "        batch_size = tf.shape(inputs)[0]\n",
    "        cls_token = tf.broadcast_to(self.w, [batch_size, 1, inputs.shape[-1]])\n",
    "        return cls_token\n",
    "\n",
    "    def get_config(self):\n",
    "        config = super(ClassToken, self).get_config()\n",
    "        return config\n",
    "\n",
    "    @classmethod\n",
    "    def from_config(cls, config):\n",
    "        return cls()"
   ]
  },
  {
   "cell_type": "code",
   "execution_count": 3,
   "metadata": {},
   "outputs": [
    {
     "name": "stdout",
     "output_type": "stream",
     "text": [
      "WARNING:tensorflow:From c:\\Users\\USHNISH PAL\\AppData\\Local\\Programs\\Python\\Python312\\Lib\\site-packages\\keras\\src\\backend\\tensorflow\\core.py:184: The name tf.placeholder is deprecated. Please use tf.compat.v1.placeholder instead.\n",
      "\n"
     ]
    }
   ],
   "source": [
    "with custom_object_scope({'ClassToken': ClassToken}):\n",
    "    loaded_model = tf.keras.models.load_model('C:/Users/USHNISH PAL/Documents/Code/Project/Crop Disease Prediction (SIH)/Coding/Classification/Model/mobilenetV3_vit_40.keras')"
   ]
  },
  {
   "cell_type": "code",
   "execution_count": 7,
   "metadata": {},
   "outputs": [],
   "source": [
    "img_height = 256\n",
    "img_width = 256"
   ]
  },
  {
   "cell_type": "code",
   "execution_count": 4,
   "metadata": {},
   "outputs": [
    {
     "name": "stdout",
     "output_type": "stream",
     "text": [
      "['Apple___Apple_scab', 'Apple___Black_rot', 'Apple___Cedar_apple_rust', 'Apple___healthy', 'Blueberry___healthy', 'Cherry_(including_sour)___Powdery_mildew', 'Cherry_(including_sour)___healthy', 'Corn_(maize)___Cercospora_leaf_spot Gray_leaf_spot', 'Corn_(maize)___Common_rust_', 'Corn_(maize)___Northern_Leaf_Blight', 'Corn_(maize)___healthy', 'Grape___Black_rot', 'Grape___Esca_(Black_Measles)', 'Grape___Leaf_blight_(Isariopsis_Leaf_Spot)', 'Grape___healthy', 'Orange___Haunglongbing_(Citrus_greening)', 'Peach___Bacterial_spot', 'Peach___healthy', 'Pepper,_bell___Bacterial_spot', 'Pepper,_bell___healthy', 'Potato___Early_blight', 'Potato___Late_blight', 'Potato___healthy', 'Raspberry___healthy', 'Soybean___healthy', 'Squash___Powdery_mildew', 'Strawberry___Leaf_scorch', 'Strawberry___healthy', 'Tomato___Bacterial_spot', 'Tomato___Early_blight', 'Tomato___Late_blight', 'Tomato___Leaf_Mold', 'Tomato___Septoria_leaf_spot', 'Tomato___Spider_mites Two-spotted_spider_mite', 'Tomato___Target_Spot', 'Tomato___Tomato_Yellow_Leaf_Curl_Virus', 'Tomato___Tomato_mosaic_virus', 'Tomato___healthy']\n"
     ]
    }
   ],
   "source": [
    "class_names = ['Apple___Apple_scab', 'Apple___Black_rot', 'Apple___Cedar_apple_rust', 'Apple___healthy', 'Blueberry___healthy', 'Cherry_(including_sour)___Powdery_mildew', 'Cherry_(including_sour)___healthy', 'Corn_(maize)___Cercospora_leaf_spot Gray_leaf_spot', 'Corn_(maize)___Common_rust_', 'Corn_(maize)___Northern_Leaf_Blight', 'Corn_(maize)___healthy', 'Grape___Black_rot', 'Grape___Esca_(Black_Measles)', 'Grape___Leaf_blight_(Isariopsis_Leaf_Spot)', 'Grape___healthy', 'Orange___Haunglongbing_(Citrus_greening)', 'Peach___Bacterial_spot', 'Peach___healthy', 'Pepper,_bell___Bacterial_spot', 'Pepper,_bell___healthy', 'Potato___Early_blight', 'Potato___Late_blight', 'Potato___healthy', 'Raspberry___healthy', 'Soybean___healthy', 'Squash___Powdery_mildew', 'Strawberry___Leaf_scorch', 'Strawberry___healthy', 'Tomato___Bacterial_spot', 'Tomato___Early_blight', 'Tomato___Late_blight', 'Tomato___Leaf_Mold', 'Tomato___Septoria_leaf_spot', 'Tomato___Spider_mites Two-spotted_spider_mite', 'Tomato___Target_Spot', 'Tomato___Tomato_Yellow_Leaf_Curl_Virus', 'Tomato___Tomato_mosaic_virus', 'Tomato___healthy']\n",
    "print(class_names)"
   ]
  },
  {
   "cell_type": "code",
   "execution_count": 5,
   "metadata": {},
   "outputs": [],
   "source": [
    "img_path = \"C:/Users/USHNISH PAL/Documents/Code/Project/Crop Disease Prediction (SIH)/Coding/Classification/Dataset/Test Images/Corn_(maize)___Cercospora_leaf_spot Gray_leaf_spot.jpg\""
   ]
  },
  {
   "cell_type": "code",
   "execution_count": 8,
   "metadata": {},
   "outputs": [
    {
     "name": "stdout",
     "output_type": "stream",
     "text": [
      "\u001b[1m1/1\u001b[0m \u001b[32m━━━━━━━━━━━━━━━━━━━━\u001b[0m\u001b[37m\u001b[0m \u001b[1m4s\u001b[0m 4s/step\n",
      "\n",
      "This image most likely belongs to Corn_(maize)___Northern_Leaf_Blight with a 6.38% confidence.\n",
      "\n",
      "Apple___Apple_scab: 2.40% confidence\n",
      "Apple___Black_rot: 2.40% confidence\n",
      "Apple___Cedar_apple_rust: 2.40% confidence\n",
      "Apple___healthy: 2.40% confidence\n",
      "Blueberry___healthy: 2.40% confidence\n",
      "Cherry_(including_sour)___Powdery_mildew: 2.40% confidence\n",
      "Cherry_(including_sour)___healthy: 2.40% confidence\n",
      "Corn_(maize)___Cercospora_leaf_spot Gray_leaf_spot: 2.45% confidence\n",
      "Corn_(maize)___Common_rust_: 2.40% confidence\n",
      "Corn_(maize)___Northern_Leaf_Blight: 6.38% confidence\n",
      "Corn_(maize)___healthy: 2.40% confidence\n",
      "Grape___Black_rot: 2.40% confidence\n",
      "Grape___Esca_(Black_Measles): 2.40% confidence\n",
      "Grape___Leaf_blight_(Isariopsis_Leaf_Spot): 2.40% confidence\n",
      "Grape___healthy: 2.40% confidence\n",
      "Orange___Haunglongbing_(Citrus_greening): 2.40% confidence\n",
      "Peach___Bacterial_spot: 2.40% confidence\n",
      "Peach___healthy: 2.40% confidence\n",
      "Pepper,_bell___Bacterial_spot: 2.40% confidence\n",
      "Pepper,_bell___healthy: 2.40% confidence\n",
      "Potato___Early_blight: 2.40% confidence\n",
      "Potato___Late_blight: 2.40% confidence\n",
      "Potato___healthy: 2.40% confidence\n",
      "Raspberry___healthy: 2.40% confidence\n",
      "Soybean___healthy: 2.40% confidence\n",
      "Squash___Powdery_mildew: 2.40% confidence\n",
      "Strawberry___Leaf_scorch: 2.40% confidence\n",
      "Strawberry___healthy: 2.40% confidence\n",
      "Tomato___Bacterial_spot: 2.40% confidence\n",
      "Tomato___Early_blight: 2.40% confidence\n",
      "Tomato___Late_blight: 2.40% confidence\n",
      "Tomato___Leaf_Mold: 2.40% confidence\n",
      "Tomato___Septoria_leaf_spot: 2.40% confidence\n",
      "Tomato___Spider_mites Two-spotted_spider_mite: 2.40% confidence\n",
      "Tomato___Target_Spot: 2.40% confidence\n",
      "Tomato___Tomato_Yellow_Leaf_Curl_Virus: 2.40% confidence\n",
      "Tomato___Tomato_mosaic_virus: 2.40% confidence\n",
      "Tomato___healthy: 2.40% confidence\n"
     ]
    }
   ],
   "source": [
    "img = tf.keras.utils.load_img(\n",
    "    img_path, target_size=(img_height, img_width)\n",
    ")\n",
    "\n",
    "img_array = tf.keras.utils.img_to_array(img)\n",
    "img_array = tf.expand_dims(img_array, 0)  \n",
    "\n",
    "\n",
    "predictions = loaded_model.predict(img_array)\n",
    "\n",
    "score = tf.nn.softmax(predictions[0])\n",
    "\n",
    "max_index = np.argmax(score)\n",
    "max_class_name = class_names[max_index]\n",
    "max_score = score[max_index]\n",
    "\n",
    "print(f\"\\nThis image most likely belongs to {max_class_name} with a {max_score * 100:.2f}% confidence.\",)\n",
    "print(\"\")\n",
    "\n",
    "for i, class_name in enumerate(class_names):\n",
    "    print(f\"{class_name}: {score[i] * 100:.2f}% confidence\")"
   ]
  }
 ],
 "metadata": {
  "kernelspec": {
   "display_name": "Python 3",
   "language": "python",
   "name": "python3"
  },
  "language_info": {
   "codemirror_mode": {
    "name": "ipython",
    "version": 3
   },
   "file_extension": ".py",
   "mimetype": "text/x-python",
   "name": "python",
   "nbconvert_exporter": "python",
   "pygments_lexer": "ipython3",
   "version": "3.12.3"
  }
 },
 "nbformat": 4,
 "nbformat_minor": 2
}
